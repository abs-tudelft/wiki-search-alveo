{
 "cells": [
  {
   "cell_type": "code",
   "execution_count": 1,
   "metadata": {},
   "outputs": [],
   "source": [
    "import pyarrow as pa\n",
    "\n",
    "# Pages schema\n",
    "pages_title  = pa.field('title', pa.utf8(), nullable=False)\n",
    "pages_text   = pa.field('text', pa.binary(), nullable=False).add_metadata({b'fletcher_epc': b'8'})\n",
    "pages_meta   = {b'fletcher_mode': b'read',\n",
    "                b'fletcher_name': b'Pages'}\n",
    "pages_schema = pa.schema([pages_title, pages_text]).add_metadata(pages_meta)\n",
    "\n",
    "pa.output_stream('pages.as').write(pages_schema.serialize());"
   ]
  },
  {
   "cell_type": "code",
   "execution_count": 2,
   "metadata": {},
   "outputs": [],
   "source": [
    "# Result schema\n",
    "result_title  = pa.field('title', pa.utf8(), nullable=False)\n",
    "result_count  = pa.field('count', pa.uint32(), nullable=False)\n",
    "result_meta   = {b'fletcher_mode': b'write',\n",
    "                 b'fletcher_name': b'Result'}\n",
    "result_schema = pa.schema([result_title, result_count]).add_metadata(result_meta)\n",
    "\n",
    "pa.output_stream('result.as').write(result_schema.serialize());"
   ]
  },
  {
   "cell_type": "code",
   "execution_count": 3,
   "metadata": {},
   "outputs": [],
   "source": [
    "# Stats schema\n",
    "stats_schema = pa.schema([pa.field('stats', pa.uint64(), nullable=False)]).add_metadata(\n",
    "    {b'fletcher_mode': b'write',\n",
    "     b'fletcher_name': b'Stats'})\n",
    "\n",
    "pa.output_stream('stats.as').write(stats_schema.serialize());"
   ]
  }
 ],
 "metadata": {
  "kernelspec": {
   "display_name": "Python 3",
   "language": "python",
   "name": "python3"
  },
  "language_info": {
   "codemirror_mode": {
    "name": "ipython",
    "version": 3
   },
   "file_extension": ".py",
   "mimetype": "text/x-python",
   "name": "python",
   "nbconvert_exporter": "python",
   "pygments_lexer": "ipython3",
   "version": "3.6.8"
  }
 },
 "nbformat": 4,
 "nbformat_minor": 2
}
